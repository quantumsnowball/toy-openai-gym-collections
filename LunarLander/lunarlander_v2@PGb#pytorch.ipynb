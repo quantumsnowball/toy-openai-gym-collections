{
 "cells": [
  {
   "cell_type": "markdown",
   "metadata": {},
   "source": [
    "# Policy Gradient with Baseline"
   ]
  },
  {
   "cell_type": "code",
   "execution_count": 1,
   "metadata": {},
   "outputs": [],
   "source": [
    "import gym\n",
    "import numpy as np\n",
    "from collections import deque\n",
    "import torch\n",
    "import torch.nn as nn\n",
    "from torch.distributions.categorical import Categorical\n",
    "from torch.optim import Adam"
   ]
  },
  {
   "cell_type": "markdown",
   "metadata": {},
   "source": [
    "# Environment"
   ]
  },
  {
   "cell_type": "code",
   "execution_count": 2,
   "metadata": {},
   "outputs": [],
   "source": [
    "gym.logger.set_level(40) # subpress warnings\n",
    "env = gym.make('LunarLander-v2').env"
   ]
  },
  {
   "cell_type": "code",
   "execution_count": 3,
   "metadata": {},
   "outputs": [
    {
     "data": {
      "text/plain": [
       "Box(8,)"
      ]
     },
     "execution_count": 3,
     "metadata": {},
     "output_type": "execute_result"
    }
   ],
   "source": [
    "env.observation_space"
   ]
  },
  {
   "cell_type": "code",
   "execution_count": 4,
   "metadata": {},
   "outputs": [
    {
     "data": {
      "text/plain": [
       "Discrete(4)"
      ]
     },
     "execution_count": 4,
     "metadata": {},
     "output_type": "execute_result"
    }
   ],
   "source": [
    "env.action_space"
   ]
  },
  {
   "cell_type": "markdown",
   "metadata": {},
   "source": [
    "# Neural Network"
   ]
  },
  {
   "cell_type": "code",
   "execution_count": 5,
   "metadata": {},
   "outputs": [],
   "source": [
    "def network(*, n_input, n_output, n_hidden=32, hidden_layers=1, \n",
    "            activation=nn.Tanh, output_activation=nn.Identity):\n",
    "    layers = [nn.Linear(n_input, n_hidden), activation()]\n",
    "    for _ in range(hidden_layers):\n",
    "        layers += [nn.Linear(n_hidden, n_hidden), activation()]\n",
    "    layers += [nn.Linear(n_hidden, n_output), output_activation()]\n",
    "    return nn.Sequential(*layers)    "
   ]
  },
  {
   "cell_type": "markdown",
   "metadata": {},
   "source": [
    "# Buffer"
   ]
  },
  {
   "cell_type": "code",
   "execution_count": 6,
   "metadata": {},
   "outputs": [],
   "source": [
    "class Buffer:\n",
    "    def __init__(self):\n",
    "        # reset every trajectory\n",
    "        self._traj_rewards = 0\n",
    "        self._cache = []\n",
    "        # reset every epoch\n",
    "        self._all_rewards = []\n",
    "        self._memory = []\n",
    "        # never reset\n",
    "        self._rolling_rewards = []\n",
    "    \n",
    "    @property\n",
    "    def size(self): return len(self._memory)\n",
    "    \n",
    "    def mean_rewards(self, n=10): \n",
    "        return np.mean(self._rolling_rewards[-n:])\n",
    "    \n",
    "    def cache(self, state, action, reward, next_state, done):\n",
    "        self._traj_rewards += reward\n",
    "        self._cache.append([state, action, reward, next_state, done])\n",
    "    \n",
    "    def flush(self):\n",
    "        self._memory += [sample + [self._traj_rewards] for sample in self._cache]\n",
    "        self._all_rewards.append(self._traj_rewards)\n",
    "        self._traj_rewards = 0\n",
    "        self._cache = []\n",
    "    \n",
    "    def reset(self):\n",
    "        self._rolling_rewards.append(np.mean(self._all_rewards))\n",
    "        self._all_rewards = []\n",
    "        self._memory = []\n",
    "    \n",
    "    def get_batch(self):\n",
    "        states, actions, rewards, next_states, dones, traj_rewards = np.array(self._memory).transpose()         \n",
    "        states, next_states = np.stack(states), np.stack(next_states)\n",
    "        actions, traj_rewards = actions.astype(int), traj_rewards.astype(float)\n",
    "        baseline = torch.tensor(np.mean(self._all_rewards))\n",
    "        return states, actions, rewards, next_states, dones, traj_rewards, baseline"
   ]
  },
  {
   "cell_type": "markdown",
   "metadata": {},
   "source": [
    "# Agent"
   ]
  },
  {
   "cell_type": "code",
   "execution_count": 7,
   "metadata": {},
   "outputs": [],
   "source": [
    "class Agent:\n",
    "    def __init__(self, env, *, lr=0.01):\n",
    "        self._env = env\n",
    "        self._buffer = Buffer()\n",
    "        self._logits_net = network(n_input=env.observation_space.shape[0], \n",
    "                                   n_hidden=32, \n",
    "                                   n_output=env.action_space.n,\n",
    "                                   hidden_layers=2,\n",
    "                                  )\n",
    "        self._optimizer = Adam(self._logits_net.parameters(), lr=lr)\n",
    "\n",
    "    def policy(self, state):\n",
    "        state = torch.as_tensor(state, dtype=torch.float32)\n",
    "        return Categorical(logits=self._logits_net(state))\n",
    "    \n",
    "    def choose_action(self, state, *, epilson=0.5):        \n",
    "        if np.random.random()>epilson:\n",
    "            return self._env.action_space.sample()\n",
    "        else:\n",
    "            return self.policy(state).sample().item()"
   ]
  },
  {
   "cell_type": "code",
   "execution_count": 8,
   "metadata": {},
   "outputs": [],
   "source": [
    "class Agent(Agent):\n",
    "    def play(self, *, n_steps=500, render=False, log=True):\n",
    "        state = env.reset()\n",
    "        done = False\n",
    "        rewards = 0\n",
    "        for i_steps in range(1, n_steps+1):\n",
    "            action = self.choose_action(state, epilson=1)\n",
    "            next_state, reward, done, info = env.step(action)            \n",
    "            rewards += reward\n",
    "            state = next_state\n",
    "            if render: \n",
    "                env.render()\n",
    "            if done: \n",
    "                break\n",
    "        if render:\n",
    "            if log:\n",
    "                print(f'Steps taken: {i_steps}, rewards earned: {rewards:.4f}')\n",
    "            env.close()\n",
    "        else:\n",
    "            return rewards"
   ]
  },
  {
   "cell_type": "code",
   "execution_count": 9,
   "metadata": {},
   "outputs": [],
   "source": [
    "class Agent(Agent):\n",
    "    def train(self):\n",
    "        states, actions, rewards, next_states, dones, traj_rewards, baseline = self._buffer.get_batch()\n",
    "        states = torch.as_tensor(states, dtype=torch.float32)\n",
    "        actions = torch.as_tensor(actions, dtype=torch.int32)\n",
    "        traj_rewards = torch.as_tensor(traj_rewards, dtype=torch.float32)\n",
    "        # gradient ascent\n",
    "        self._optimizer.zero_grad()        \n",
    "        logp = self.policy(states).log_prob(actions)\n",
    "        batch_loss = -(logp * (traj_rewards - baseline)).mean()\n",
    "        batch_loss.backward()\n",
    "        self._optimizer.step()\n",
    "        return batch_loss.detach().numpy()"
   ]
  },
  {
   "cell_type": "code",
   "execution_count": 10,
   "metadata": {},
   "outputs": [],
   "source": [
    "class Agent(Agent):\n",
    "    def run(self, n_eps=1000, n_steps=500, batch_size=2000):\n",
    "        for i_eps in range(1, n_eps+1):\n",
    "            while True:\n",
    "                state = env.reset()\n",
    "                done = False\n",
    "                for i_steps in range(1,n_steps+1):\n",
    "                    action = self.choose_action(state, epilson=1)\n",
    "                    next_state, reward, done, info = env.step(action)\n",
    "                    self._buffer.cache(state, action, reward, next_state, done)\n",
    "                    state = next_state \n",
    "                    if done: break\n",
    "                self._buffer.flush()\n",
    "                if self._buffer.size>=batch_size: \n",
    "                    break\n",
    "            self.train()\n",
    "            self._buffer.reset()\n",
    "            if i_eps%1==0:\n",
    "                print('#', end='')\n",
    "            if i_eps%10==0:\n",
    "                # self.play(render=True, log=False)\n",
    "                mean_score = self._buffer.mean_rewards(10)\n",
    "                print(f' | Episode {i_eps:>4d} | mean rewards: {mean_score:.1f}')\n",
    "                if mean_score>=200:\n",
    "                    print(f'\\nMean score of {mean_score:.1f} is considered solved.')\n",
    "                    break"
   ]
  },
  {
   "cell_type": "markdown",
   "metadata": {},
   "source": [
    "# Run"
   ]
  },
  {
   "cell_type": "code",
   "execution_count": 11,
   "metadata": {},
   "outputs": [],
   "source": [
    "agent = Agent(env, lr=0.001)"
   ]
  },
  {
   "cell_type": "code",
   "execution_count": 12,
   "metadata": {},
   "outputs": [
    {
     "name": "stdout",
     "output_type": "stream",
     "text": [
      "########## | Episode   10 | mean rewards: -223.4\n",
      "########## | Episode   20 | mean rewards: -190.8\n",
      "########## | Episode   30 | mean rewards: -162.5\n",
      "########## | Episode   40 | mean rewards: -149.5\n",
      "########## | Episode   50 | mean rewards: -157.6\n",
      "########## | Episode   60 | mean rewards: -143.1\n",
      "########## | Episode   70 | mean rewards: -133.1\n",
      "########## | Episode   80 | mean rewards: -122.6\n",
      "########## | Episode   90 | mean rewards: -131.2\n",
      "########## | Episode  100 | mean rewards: -120.3\n",
      "########## | Episode  110 | mean rewards: -112.6\n",
      "########## | Episode  120 | mean rewards: -110.2\n",
      "########## | Episode  130 | mean rewards: -108.1\n",
      "########## | Episode  140 | mean rewards: -116.2\n",
      "########## | Episode  150 | mean rewards: -104.6\n",
      "########## | Episode  160 | mean rewards: -100.8\n",
      "########## | Episode  170 | mean rewards: -107.2\n",
      "########## | Episode  180 | mean rewards: -104.1\n",
      "########## | Episode  190 | mean rewards: -101.4\n",
      "########## | Episode  200 | mean rewards: -96.8\n",
      "########## | Episode  210 | mean rewards: -91.1\n",
      "########## | Episode  220 | mean rewards: -90.3\n",
      "########## | Episode  230 | mean rewards: -81.3\n",
      "########## | Episode  240 | mean rewards: -69.5\n",
      "########## | Episode  250 | mean rewards: -66.1\n",
      "########## | Episode  260 | mean rewards: -54.0\n",
      "########## | Episode  270 | mean rewards: -36.0\n",
      "########## | Episode  280 | mean rewards: -43.4\n",
      "########## | Episode  290 | mean rewards: -20.9\n",
      "########## | Episode  300 | mean rewards: -30.4\n",
      "########## | Episode  310 | mean rewards: -0.7\n",
      "########## | Episode  320 | mean rewards: 9.9\n",
      "########## | Episode  330 | mean rewards: -2.8\n",
      "########## | Episode  340 | mean rewards: 9.6\n",
      "########## | Episode  350 | mean rewards: -8.3\n",
      "########## | Episode  360 | mean rewards: 7.1\n",
      "########## | Episode  370 | mean rewards: 10.5\n",
      "########## | Episode  380 | mean rewards: 18.8\n",
      "########## | Episode  390 | mean rewards: 5.2\n",
      "########## | Episode  400 | mean rewards: -20.1\n",
      "########## | Episode  410 | mean rewards: -39.4\n",
      "########## | Episode  420 | mean rewards: -6.7\n",
      "########## | Episode  430 | mean rewards: -0.6\n",
      "########## | Episode  440 | mean rewards: 7.2\n",
      "########## | Episode  450 | mean rewards: 4.1\n",
      "########## | Episode  460 | mean rewards: 10.8\n",
      "########## | Episode  470 | mean rewards: 7.3\n",
      "########## | Episode  480 | mean rewards: 31.1\n",
      "########## | Episode  490 | mean rewards: 36.7\n",
      "########## | Episode  500 | mean rewards: 43.5\n",
      "########## | Episode  510 | mean rewards: 4.3\n",
      "########## | Episode  520 | mean rewards: -0.5\n",
      "########## | Episode  530 | mean rewards: 28.6\n",
      "########## | Episode  540 | mean rewards: 10.1\n",
      "########## | Episode  550 | mean rewards: 26.6\n",
      "########## | Episode  560 | mean rewards: 29.8\n",
      "########## | Episode  570 | mean rewards: 28.5\n",
      "########## | Episode  580 | mean rewards: 23.3\n",
      "########## | Episode  590 | mean rewards: 23.7\n",
      "########## | Episode  600 | mean rewards: 45.0\n",
      "########## | Episode  610 | mean rewards: 75.0\n",
      "########## | Episode  620 | mean rewards: 82.4\n",
      "########## | Episode  630 | mean rewards: 72.6\n",
      "########## | Episode  640 | mean rewards: 84.1\n",
      "########## | Episode  650 | mean rewards: 96.6\n",
      "########## | Episode  660 | mean rewards: 40.4\n",
      "########## | Episode  670 | mean rewards: 95.3\n",
      "########## | Episode  680 | mean rewards: 69.0\n",
      "########## | Episode  690 | mean rewards: 56.7\n",
      "########## | Episode  700 | mean rewards: 82.0\n",
      "########## | Episode  710 | mean rewards: 98.2\n",
      "########## | Episode  720 | mean rewards: 74.2\n",
      "########## | Episode  730 | mean rewards: 81.2\n",
      "########## | Episode  740 | mean rewards: 85.5\n",
      "########## | Episode  750 | mean rewards: 86.6\n",
      "########## | Episode  760 | mean rewards: 99.6\n",
      "########## | Episode  770 | mean rewards: 94.3\n",
      "########## | Episode  780 | mean rewards: 88.9\n",
      "########## | Episode  790 | mean rewards: 111.2\n",
      "########## | Episode  800 | mean rewards: 111.4\n",
      "########## | Episode  810 | mean rewards: 107.8\n",
      "########## | Episode  820 | mean rewards: 105.0\n",
      "########## | Episode  830 | mean rewards: 96.9\n",
      "########## | Episode  840 | mean rewards: 116.0\n",
      "########## | Episode  850 | mean rewards: 95.0\n",
      "########## | Episode  860 | mean rewards: 118.6\n",
      "########## | Episode  870 | mean rewards: 103.3\n",
      "########## | Episode  880 | mean rewards: 95.8\n",
      "########## | Episode  890 | mean rewards: 86.4\n",
      "########## | Episode  900 | mean rewards: 87.3\n",
      "########## | Episode  910 | mean rewards: 90.6\n",
      "########## | Episode  920 | mean rewards: 92.8\n",
      "########## | Episode  930 | mean rewards: 86.6\n",
      "########## | Episode  940 | mean rewards: 95.4\n",
      "########## | Episode  950 | mean rewards: 111.0\n",
      "########## | Episode  960 | mean rewards: 103.0\n",
      "########## | Episode  970 | mean rewards: 113.7\n",
      "########## | Episode  980 | mean rewards: 125.8\n",
      "########## | Episode  990 | mean rewards: 104.3\n",
      "########## | Episode 1000 | mean rewards: 111.2\n"
     ]
    }
   ],
   "source": [
    "agent.run(batch_size=1000)"
   ]
  },
  {
   "cell_type": "markdown",
   "metadata": {},
   "source": [
    "# Evaluation"
   ]
  },
  {
   "cell_type": "code",
   "execution_count": 13,
   "metadata": {},
   "outputs": [
    {
     "name": "stdout",
     "output_type": "stream",
     "text": [
      "Steps taken: 500, rewards earned: 151.7690709921598\n"
     ]
    }
   ],
   "source": [
    "agent.play(render=True)"
   ]
  },
  {
   "cell_type": "markdown",
   "metadata": {},
   "source": [
    "# Comment"
   ]
  },
  {
   "cell_type": "markdown",
   "metadata": {},
   "source": [
    "* The environment does not show much improvement by using a baseline.\n",
    "* Maximum reward showed improvement.\n",
    "* Learning rate is crucial if too high the model never converge."
   ]
  }
 ],
 "metadata": {
  "kernelspec": {
   "display_name": "Python 3",
   "language": "python",
   "name": "python3"
  },
  "language_info": {
   "codemirror_mode": {
    "name": "ipython",
    "version": 3
   },
   "file_extension": ".py",
   "mimetype": "text/x-python",
   "name": "python",
   "nbconvert_exporter": "python",
   "pygments_lexer": "ipython3",
   "version": "3.8.5"
  }
 },
 "nbformat": 4,
 "nbformat_minor": 4
}
