{
 "cells": [
  {
   "cell_type": "markdown",
   "metadata": {},
   "source": [
    "# Policy Gradient"
   ]
  },
  {
   "cell_type": "markdown",
   "metadata": {},
   "source": [
    "# Import"
   ]
  },
  {
   "cell_type": "code",
   "execution_count": 1,
   "metadata": {},
   "outputs": [],
   "source": [
    "import gym\n",
    "import numpy as np\n",
    "from collections import deque\n",
    "import torch\n",
    "import torch.nn as nn\n",
    "from torch.distributions.categorical import Categorical\n",
    "from torch.optim import Adam"
   ]
  },
  {
   "cell_type": "markdown",
   "metadata": {},
   "source": [
    "# Environment"
   ]
  },
  {
   "cell_type": "code",
   "execution_count": 2,
   "metadata": {},
   "outputs": [],
   "source": [
    "env = gym.make('CartPole-v1').env"
   ]
  },
  {
   "cell_type": "code",
   "execution_count": 3,
   "metadata": {},
   "outputs": [
    {
     "data": {
      "text/plain": [
       "Box(4,)"
      ]
     },
     "execution_count": 3,
     "metadata": {},
     "output_type": "execute_result"
    }
   ],
   "source": [
    "env.observation_space"
   ]
  },
  {
   "cell_type": "code",
   "execution_count": 4,
   "metadata": {},
   "outputs": [
    {
     "data": {
      "text/plain": [
       "Discrete(2)"
      ]
     },
     "execution_count": 4,
     "metadata": {},
     "output_type": "execute_result"
    }
   ],
   "source": [
    "env.action_space"
   ]
  },
  {
   "cell_type": "markdown",
   "metadata": {},
   "source": [
    "# Neural Network"
   ]
  },
  {
   "cell_type": "code",
   "execution_count": 5,
   "metadata": {},
   "outputs": [],
   "source": [
    "def network(*, n_input, n_output, n_hidden=32, hidden_layers=1, \n",
    "            activation=nn.Tanh, output_activation=nn.Identity):\n",
    "    layers = [nn.Linear(n_input, n_hidden), activation()]\n",
    "    for _ in range(hidden_layers):\n",
    "        layers += [nn.Linear(n_hidden, n_hidden), activation()]\n",
    "    layers += [nn.Linear(n_hidden, n_output), output_activation()]\n",
    "    return nn.Sequential(*layers)    "
   ]
  },
  {
   "cell_type": "code",
   "execution_count": 6,
   "metadata": {},
   "outputs": [],
   "source": [
    "net = network(\n",
    "    n_input=env.observation_space.shape[0], \n",
    "    n_hidden=128, \n",
    "    n_output=env.action_space.n)"
   ]
  },
  {
   "cell_type": "code",
   "execution_count": 7,
   "metadata": {},
   "outputs": [
    {
     "data": {
      "text/plain": [
       "Sequential(\n",
       "  (0): Linear(in_features=4, out_features=128, bias=True)\n",
       "  (1): Tanh()\n",
       "  (2): Linear(in_features=128, out_features=128, bias=True)\n",
       "  (3): Tanh()\n",
       "  (4): Linear(in_features=128, out_features=2, bias=True)\n",
       "  (5): Identity()\n",
       ")"
      ]
     },
     "execution_count": 7,
     "metadata": {},
     "output_type": "execute_result"
    }
   ],
   "source": [
    "net"
   ]
  },
  {
   "cell_type": "markdown",
   "metadata": {},
   "source": [
    "# Buffer"
   ]
  },
  {
   "cell_type": "code",
   "execution_count": 8,
   "metadata": {},
   "outputs": [],
   "source": [
    "class Buffer:\n",
    "    def __init__(self, maxlen):\n",
    "        self._traj_rewards = []\n",
    "        self._cache = []\n",
    "        self._memory = []\n",
    "    \n",
    "    @property\n",
    "    def size(self): return len(self._memory)\n",
    "    \n",
    "    def cache(self, state, action, reward, next_state, done):\n",
    "        self._traj_rewards.append(reward)\n",
    "        self._cache.append([state, action, reward, next_state, done])\n",
    "    \n",
    "    def flush(self):        \n",
    "        traj_rewards = np.cumsum(np.array(self._traj_rewards)[::-1])[::-1]\n",
    "        self._memory += [sample + [reward] for sample, reward in zip(self._cache, traj_rewards)]\n",
    "        self._traj_rewards = []\n",
    "        self._cache = []\n",
    "        \n",
    "    def get_batch(self):\n",
    "        states, actions, rewards, next_states, dones, traj_rewards = np.array(self._memory).transpose()         \n",
    "        states, next_states = np.stack(states), np.stack(next_states)\n",
    "        actions, traj_rewards = actions.astype(int), traj_rewards.astype(float)\n",
    "        return states, actions, rewards, next_states, dones, traj_rewards\n",
    "    \n",
    "    def clear(self):\n",
    "        self._memory = []"
   ]
  },
  {
   "cell_type": "markdown",
   "metadata": {},
   "source": [
    "# Agent"
   ]
  },
  {
   "cell_type": "code",
   "execution_count": 9,
   "metadata": {},
   "outputs": [],
   "source": [
    "class Agent:\n",
    "    def __init__(self, env):\n",
    "        self._env = env\n",
    "        self._buffer = Buffer(5000)\n",
    "        self._logits_net = network(n_input=env.observation_space.shape[0], \n",
    "                                   n_hidden=32, \n",
    "                                   n_output=env.action_space.n)\n",
    "        self._optimizer = Adam(self._logits_net.parameters(), lr=0.02)\n",
    "\n",
    "    def policy(self, state):\n",
    "        state = torch.as_tensor(state, dtype=torch.float32)\n",
    "        return Categorical(logits=self._logits_net(state))\n",
    "    \n",
    "    def choose_action(self, state, *, epilson=0.5):        \n",
    "        if np.random.random()>epilson:\n",
    "            return self._env.action_space.sample()\n",
    "        else:\n",
    "            return self.policy(state).sample().item()"
   ]
  },
  {
   "cell_type": "code",
   "execution_count": 10,
   "metadata": {},
   "outputs": [],
   "source": [
    "class Agent(Agent):\n",
    "    def play(self, *, n_steps=500, render=False):\n",
    "        state = env.reset()\n",
    "        done = False\n",
    "        rewards = 0\n",
    "        for i_steps in range(1, n_steps+1):\n",
    "            action = self.choose_action(state, epilson=1)\n",
    "            next_state, reward, done, info = env.step(action)            \n",
    "            rewards += reward\n",
    "            state = next_state\n",
    "            if render: \n",
    "                env.render()\n",
    "            if done: \n",
    "                break\n",
    "        if render: \n",
    "            print(f'Steps taken: {i_steps}, rewards earned: {rewards}')\n",
    "            env.close()\n",
    "        else:\n",
    "            return rewards"
   ]
  },
  {
   "cell_type": "code",
   "execution_count": 11,
   "metadata": {},
   "outputs": [],
   "source": [
    "class Agent(Agent):\n",
    "    def train(self):\n",
    "        states, actions, rewards, next_states, dones, traj_rewards = self._buffer.get_batch()\n",
    "        states = torch.as_tensor(states, dtype=torch.float32)\n",
    "        actions = torch.as_tensor(actions, dtype=torch.int32)\n",
    "        traj_rewards = torch.as_tensor(traj_rewards, dtype=torch.float32)\n",
    "        # gradient ascent\n",
    "        self._optimizer.zero_grad()        \n",
    "        logp = self.policy(states).log_prob(actions)\n",
    "        batch_loss = -(logp*traj_rewards).mean()\n",
    "        batch_loss.backward()\n",
    "        self._optimizer.step()\n",
    "        return batch_loss.detach().numpy()"
   ]
  },
  {
   "cell_type": "code",
   "execution_count": 12,
   "metadata": {},
   "outputs": [],
   "source": [
    "class Agent(Agent):\n",
    "    def run(self, n_eps=1000, n_steps=500, batch_size=6000):\n",
    "        scores = deque(maxlen=10)\n",
    "        for i_eps in range(1, n_eps+1):\n",
    "            while True:\n",
    "                state = env.reset()\n",
    "                done = False\n",
    "                for i_steps in range(1,n_steps+1):\n",
    "                    action = self.choose_action(state, epilson=1)\n",
    "                    next_state, reward, done, info = env.step(action)\n",
    "                    self._buffer.cache(state, action, reward, next_state, done)\n",
    "                    state = next_state \n",
    "                    if done: break\n",
    "                self._buffer.flush()\n",
    "                if self._buffer.size>=batch_size: \n",
    "                    break\n",
    "            self.train()\n",
    "            self._buffer.clear()\n",
    "            if i_eps%2==0:\n",
    "                scores.append(self.play())\n",
    "            if i_eps%1==0:\n",
    "                print('#', end='')\n",
    "            if i_eps%10==0:\n",
    "                mean_score = sum(scores)/len(scores)\n",
    "                print(f' | Episode {i_eps:>4d} | mean rewards: {mean_score:.1f}')\n",
    "                if mean_score>=495:\n",
    "                    print(f'\\nMean score of {mean_score:.1f} is considered solved.')\n",
    "                    break"
   ]
  },
  {
   "cell_type": "code",
   "execution_count": 13,
   "metadata": {},
   "outputs": [],
   "source": [
    "agent = Agent(env)"
   ]
  },
  {
   "cell_type": "code",
   "execution_count": 14,
   "metadata": {},
   "outputs": [
    {
     "name": "stdout",
     "output_type": "stream",
     "text": [
      "########## | Episode   10 | mean rewards: 92.6\n",
      "########## | Episode   20 | mean rewards: 261.7\n",
      "########## | Episode   30 | mean rewards: 445.7\n",
      "########## | Episode   40 | mean rewards: 436.3\n",
      "########## | Episode   50 | mean rewards: 324.0\n",
      "########## | Episode   60 | mean rewards: 152.6\n",
      "########## | Episode   70 | mean rewards: 91.1\n",
      "########## | Episode   80 | mean rewards: 124.6\n",
      "########## | Episode   90 | mean rewards: 195.8\n",
      "########## | Episode  100 | mean rewards: 351.0\n",
      "########## | Episode  110 | mean rewards: 473.3\n",
      "########## | Episode  120 | mean rewards: 500.0\n",
      "\n",
      "Mean score of 500.0 is considered solved.\n"
     ]
    },
    {
     "name": "stdin",
     "output_type": "stream",
     "text": [
      "Continue training? (y/[N])  n\n"
     ]
    }
   ],
   "source": [
    "agent.run()\n",
    "while input('Continue training? (y/[N]) ').upper()=='Y':\n",
    "    agent.run()"
   ]
  },
  {
   "cell_type": "markdown",
   "metadata": {},
   "source": [
    "# Evaluation"
   ]
  },
  {
   "cell_type": "code",
   "execution_count": 15,
   "metadata": {},
   "outputs": [
    {
     "name": "stdout",
     "output_type": "stream",
     "text": [
      "Steps taken: 500, rewards earned: 500.0\n"
     ]
    }
   ],
   "source": [
    "agent.play(render=True)"
   ]
  },
  {
   "cell_type": "markdown",
   "metadata": {},
   "source": [
    "# Comment"
   ]
  },
  {
   "cell_type": "markdown",
   "metadata": {},
   "source": [
    "* Although seems unstable, but rtgPG does indeed converge faster in general."
   ]
  }
 ],
 "metadata": {
  "kernelspec": {
   "display_name": "Python 3",
   "language": "python",
   "name": "python3"
  },
  "language_info": {
   "codemirror_mode": {
    "name": "ipython",
    "version": 3
   },
   "file_extension": ".py",
   "mimetype": "text/x-python",
   "name": "python",
   "nbconvert_exporter": "python",
   "pygments_lexer": "ipython3",
   "version": "3.8.5"
  }
 },
 "nbformat": 4,
 "nbformat_minor": 4
}
