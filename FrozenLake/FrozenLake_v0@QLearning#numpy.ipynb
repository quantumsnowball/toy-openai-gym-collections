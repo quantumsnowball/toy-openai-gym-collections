{
 "cells": [
  {
   "cell_type": "markdown",
   "metadata": {},
   "source": [
    "# Q-Learning"
   ]
  },
  {
   "cell_type": "markdown",
   "metadata": {},
   "source": [
    "# Import"
   ]
  },
  {
   "cell_type": "code",
   "execution_count": null,
   "metadata": {},
   "outputs": [],
   "source": [
    "import gym\n",
    "import numpy as np\n",
    "from collections import deque\n",
    "from time import sleep\n",
    "from IPython.display import clear_output"
   ]
  },
  {
   "cell_type": "markdown",
   "metadata": {},
   "source": [
    "# Environment"
   ]
  },
  {
   "cell_type": "code",
   "execution_count": 2,
   "metadata": {},
   "outputs": [],
   "source": [
    "env = gym.make('FrozenLake-v0', is_slippery=True).env"
   ]
  },
  {
   "cell_type": "code",
   "execution_count": 4,
   "metadata": {},
   "outputs": [
    {
     "data": {
      "text/plain": [
       "Discrete(4)"
      ]
     },
     "execution_count": 4,
     "metadata": {},
     "output_type": "execute_result"
    }
   ],
   "source": [
    "env.action_space"
   ]
  },
  {
   "cell_type": "code",
   "execution_count": 5,
   "metadata": {},
   "outputs": [
    {
     "data": {
      "text/plain": [
       "Discrete(16)"
      ]
     },
     "execution_count": 5,
     "metadata": {},
     "output_type": "execute_result"
    }
   ],
   "source": [
    "env.observation_space"
   ]
  },
  {
   "cell_type": "markdown",
   "metadata": {},
   "source": [
    "# Q-Learning"
   ]
  },
  {
   "cell_type": "code",
   "execution_count": 6,
   "metadata": {},
   "outputs": [],
   "source": [
    "class Agent:\n",
    "    def __init__(self, env):\n",
    "        self._q_table = np.zeros([env.observation_space.n, env.action_space.n])\n",
    "        \n",
    "    def choose_action(self, state, *, epsilon):\n",
    "        if np.random.uniform() > epsilon:\n",
    "            # exploration\n",
    "            return env.action_space.sample()\n",
    "        else:\n",
    "            # exploitation\n",
    "            return np.argmax(self._q_table[state])"
   ]
  },
  {
   "cell_type": "code",
   "execution_count": 7,
   "metadata": {},
   "outputs": [],
   "source": [
    "class Agent(Agent):\n",
    "    def play(self, *, n_steps=100, render=False):\n",
    "        state = env.reset()\n",
    "        done = False\n",
    "        rewards = 0\n",
    "        for i_steps in range(1, n_steps+1):            \n",
    "            action = self.choose_action(state, epsilon=1)\n",
    "            next_state, reward, done, info = env.step(action)\n",
    "            rewards += reward\n",
    "            if render: \n",
    "                clear_output(wait=True)\n",
    "                env.render()\n",
    "                sleep(0.2)            \n",
    "            if done: \n",
    "                break\n",
    "            state = next_state            \n",
    "        if render:\n",
    "            print(f'\\nSteps taken: {i_steps}, rewards earned: {rewards}')\n",
    "        else:\n",
    "            return rewards"
   ]
  },
  {
   "cell_type": "code",
   "execution_count": 8,
   "metadata": {},
   "outputs": [],
   "source": [
    "class Agent(Agent):\n",
    "    def train(self, state, action, reward, next_state, done, *, alpha=0.8, gamma=0.99):\n",
    "        old_value = self._q_table[state, action]\n",
    "        next_max = np.max(self._q_table[next_state])\n",
    "        new_value = (1-alpha)*old_value \\\n",
    "                    + alpha*(reward+gamma*next_max)\n",
    "        self._q_table[state, action] = new_value"
   ]
  },
  {
   "cell_type": "code",
   "execution_count": 9,
   "metadata": {},
   "outputs": [],
   "source": [
    "class Agent(Agent):\n",
    "    def run(self, *, n_eps=15000, n_steps=100):\n",
    "        scores = deque(maxlen=100)\n",
    "        for i_eps in range(1, n_eps+1):            \n",
    "            state = env.reset()\n",
    "            done = False\n",
    "            for _ in range(n_steps):                \n",
    "                action = self.choose_action(state, epsilon=i_eps/n_eps)\n",
    "                next_state, reward, done, info = env.step(action)                \n",
    "                self.train(state, action, reward, next_state, done)\n",
    "                state = next_state\n",
    "            if i_eps%10==0:\n",
    "                scores.append(self.play())\n",
    "            if i_eps%20==0:\n",
    "                print('#', end='')\n",
    "            if i_eps%1000==0:\n",
    "                mean_score = sum(scores)/len(scores)\n",
    "                print(f' | Episode {i_eps:>5d} | mean rewards: {mean_score:.2f}')"
   ]
  },
  {
   "cell_type": "code",
   "execution_count": 10,
   "metadata": {},
   "outputs": [],
   "source": [
    "agent = Agent(env)"
   ]
  },
  {
   "cell_type": "code",
   "execution_count": 11,
   "metadata": {},
   "outputs": [
    {
     "name": "stdout",
     "output_type": "stream",
     "text": [
      "################################################## | Episode  1000 | mean rewards: 0.15\n",
      "################################################## | Episode  2000 | mean rewards: 0.17\n",
      "################################################## | Episode  3000 | mean rewards: 0.15\n",
      "################################################## | Episode  4000 | mean rewards: 0.21\n",
      "################################################## | Episode  5000 | mean rewards: 0.29\n",
      "################################################## | Episode  6000 | mean rewards: 0.17\n",
      "################################################## | Episode  7000 | mean rewards: 0.23\n",
      "################################################## | Episode  8000 | mean rewards: 0.23\n",
      "################################################## | Episode  9000 | mean rewards: 0.22\n",
      "################################################## | Episode 10000 | mean rewards: 0.22\n",
      "################################################## | Episode 11000 | mean rewards: 0.20\n",
      "################################################## | Episode 12000 | mean rewards: 0.29\n",
      "################################################## | Episode 13000 | mean rewards: 0.27\n",
      "################################################## | Episode 14000 | mean rewards: 0.35\n",
      "################################################## | Episode 15000 | mean rewards: 0.50\n"
     ]
    }
   ],
   "source": [
    "agent.run()"
   ]
  },
  {
   "cell_type": "markdown",
   "metadata": {},
   "source": [
    "# Evaluation"
   ]
  },
  {
   "cell_type": "code",
   "execution_count": 14,
   "metadata": {},
   "outputs": [
    {
     "name": "stdout",
     "output_type": "stream",
     "text": [
      "  (Down)\n",
      "SFFF\n",
      "FHFH\n",
      "FFFH\n",
      "HFF\u001b[41mG\u001b[0m\n",
      "\n",
      "Steps taken: 9, rewards earned: 1.0\n"
     ]
    }
   ],
   "source": [
    "agent.play(render=True)"
   ]
  },
  {
   "cell_type": "markdown",
   "metadata": {},
   "source": [
    "# Comment"
   ]
  },
  {
   "cell_type": "markdown",
   "metadata": {},
   "source": [
    "* The instruction said \"ice is slippery, so you won't always move in the direction you intend\". If you set `is_slippery` to False, this problems will be easily solved within seconds by using a Q-Table.\n",
    "* The source code actually add some sort of randomness to the action taken such that the action is not always predictable, thus increased the overall difficulty to train.\n",
    "* Q-Learning may still able to solve some of the case, but not sure if it can effectively learn the randomness behavior for is_slippery.\n",
    "* Can use DQN or other more advanced method to solve.\n",
    "* May be can use replay memory to let the agent learn the randomness pattern if any."
   ]
  }
 ],
 "metadata": {
  "kernelspec": {
   "display_name": "Python 3",
   "language": "python",
   "name": "python3"
  },
  "language_info": {
   "codemirror_mode": {
    "name": "ipython",
    "version": 3
   },
   "file_extension": ".py",
   "mimetype": "text/x-python",
   "name": "python",
   "nbconvert_exporter": "python",
   "pygments_lexer": "ipython3",
   "version": "3.8.5"
  }
 },
 "nbformat": 4,
 "nbformat_minor": 4
}
